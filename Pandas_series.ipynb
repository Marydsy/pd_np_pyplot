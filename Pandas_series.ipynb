{
 "cells": [
  {
   "cell_type": "code",
   "execution_count": 1,
   "id": "b952717c",
   "metadata": {},
   "outputs": [],
   "source": [
    "import pandas as pd"
   ]
  },
  {
   "cell_type": "code",
   "execution_count": 2,
   "id": "5510c647",
   "metadata": {},
   "outputs": [
    {
     "data": {
      "text/plain": [
       "0    2\n",
       "1    3\n",
       "2    4\n",
       "3    5\n",
       "dtype: int64"
      ]
     },
     "execution_count": 2,
     "metadata": {},
     "output_type": "execute_result"
    }
   ],
   "source": [
    "pd.Series([2,3,4,5])"
   ]
  },
  {
   "cell_type": "code",
   "execution_count": 3,
   "id": "65ff6745",
   "metadata": {},
   "outputs": [],
   "source": [
    "sr=pd.Series([2,3,4,5],index=[\"a\",\"b\",\"c\",\"d\"])"
   ]
  },
  {
   "cell_type": "code",
   "execution_count": 4,
   "id": "20f78265",
   "metadata": {},
   "outputs": [
    {
     "data": {
      "text/plain": [
       "a    2\n",
       "b    3\n",
       "c    4\n",
       "d    5\n",
       "dtype: int64"
      ]
     },
     "execution_count": 4,
     "metadata": {},
     "output_type": "execute_result"
    }
   ],
   "source": [
    "sr"
   ]
  },
  {
   "cell_type": "code",
   "execution_count": 5,
   "id": "44c5622d",
   "metadata": {},
   "outputs": [
    {
     "data": {
      "text/plain": [
       "c    0\n",
       "v    1\n",
       "dtype: int64"
      ]
     },
     "execution_count": 5,
     "metadata": {},
     "output_type": "execute_result"
    }
   ],
   "source": [
    "import numpy as np\n",
    "pd.Series(np.arange(2),index=[\"c\",\"v\"])"
   ]
  },
  {
   "cell_type": "code",
   "execution_count": 6,
   "id": "73fbd0f5",
   "metadata": {},
   "outputs": [
    {
     "data": {
      "text/plain": [
       "a    2\n",
       "b    3\n",
       "c    4\n",
       "d    5\n",
       "dtype: int64"
      ]
     },
     "execution_count": 6,
     "metadata": {},
     "output_type": "execute_result"
    }
   ],
   "source": [
    "sr"
   ]
  },
  {
   "cell_type": "code",
   "execution_count": 7,
   "id": "b02a8558",
   "metadata": {},
   "outputs": [
    {
     "data": {
      "text/plain": [
       "5"
      ]
     },
     "execution_count": 7,
     "metadata": {},
     "output_type": "execute_result"
    }
   ],
   "source": [
    "sr[3] "
   ]
  },
  {
   "cell_type": "code",
   "execution_count": 8,
   "id": "8718686e",
   "metadata": {},
   "outputs": [
    {
     "data": {
      "text/plain": [
       "5"
      ]
     },
     "execution_count": 8,
     "metadata": {},
     "output_type": "execute_result"
    }
   ],
   "source": [
    "sr[\"d\"] #两种方式都可以索引"
   ]
  },
  {
   "cell_type": "code",
   "execution_count": 9,
   "id": "0a3288f4",
   "metadata": {},
   "outputs": [],
   "source": [
    "sr1=pd.Series([3,1,3])"
   ]
  },
  {
   "cell_type": "code",
   "execution_count": 12,
   "id": "9004b89a",
   "metadata": {
    "scrolled": true
   },
   "outputs": [
    {
     "data": {
      "text/plain": [
       "0    3\n",
       "1    1\n",
       "2    3\n",
       "dtype: int64"
      ]
     },
     "execution_count": 12,
     "metadata": {},
     "output_type": "execute_result"
    }
   ],
   "source": [
    "sr1"
   ]
  },
  {
   "cell_type": "code",
   "execution_count": 13,
   "id": "a5d39812",
   "metadata": {},
   "outputs": [
    {
     "data": {
      "text/plain": [
       "0    4\n",
       "1    2\n",
       "2    4\n",
       "dtype: int64"
      ]
     },
     "execution_count": 13,
     "metadata": {},
     "output_type": "execute_result"
    }
   ],
   "source": [
    "sr1+1"
   ]
  },
  {
   "cell_type": "code",
   "execution_count": 10,
   "id": "16fddefd",
   "metadata": {},
   "outputs": [
    {
     "data": {
      "text/plain": [
       "0   NaN\n",
       "1   NaN\n",
       "2   NaN\n",
       "a   NaN\n",
       "d   NaN\n",
       "f   NaN\n",
       "dtype: float64"
      ]
     },
     "execution_count": 10,
     "metadata": {},
     "output_type": "execute_result"
    }
   ],
   "source": [
    "sr2=pd.Series([3,1,3],index=[\"a\",\"d\",\"f\"])\n",
    "sr1+sr2"
   ]
  },
  {
   "cell_type": "code",
   "execution_count": 15,
   "id": "99e126b5",
   "metadata": {},
   "outputs": [
    {
     "data": {
      "text/plain": [
       "0     5\n",
       "1    35\n",
       "2     9\n",
       "dtype: int64"
      ]
     },
     "execution_count": 15,
     "metadata": {},
     "output_type": "execute_result"
    }
   ],
   "source": [
    "sr3=pd.Series([2,34,6])\n",
    "#对应位置做加减\n",
    "sr1+sr3"
   ]
  },
  {
   "cell_type": "markdown",
   "id": "fa3e379b",
   "metadata": {},
   "source": [
    "切片"
   ]
  },
  {
   "cell_type": "code",
   "execution_count": 16,
   "id": "a58357a6",
   "metadata": {},
   "outputs": [
    {
     "data": {
      "text/plain": [
       "0     2\n",
       "1    34\n",
       "dtype: int64"
      ]
     },
     "execution_count": 16,
     "metadata": {},
     "output_type": "execute_result"
    }
   ],
   "source": [
    "sr3[0:2]#切片"
   ]
  },
  {
   "cell_type": "code",
   "execution_count": 17,
   "id": "edd46ae0",
   "metadata": {},
   "outputs": [
    {
     "data": {
      "text/plain": [
       "1    34\n",
       "2     6\n",
       "dtype: int64"
      ]
     },
     "execution_count": 17,
     "metadata": {},
     "output_type": "execute_result"
    }
   ],
   "source": [
    "sr3[sr3>4]#布尔型索引"
   ]
  },
  {
   "cell_type": "code",
   "execution_count": 21,
   "id": "b05a8609",
   "metadata": {},
   "outputs": [
    {
     "data": {
      "text/plain": [
       "a    1\n",
       "b    2\n",
       "dtype: int64"
      ]
     },
     "execution_count": 21,
     "metadata": {},
     "output_type": "execute_result"
    }
   ],
   "source": [
    "sr4=pd.Series({\"a\":1,\"b\":2})#用字典创建Series\n",
    "sr4"
   ]
  },
  {
   "cell_type": "code",
   "execution_count": 22,
   "id": "89b7c6f8",
   "metadata": {},
   "outputs": [
    {
     "data": {
      "text/plain": [
       "1"
      ]
     },
     "execution_count": 22,
     "metadata": {},
     "output_type": "execute_result"
    }
   ],
   "source": [
    "sr4[\"a\"]"
   ]
  },
  {
   "cell_type": "code",
   "execution_count": 24,
   "id": "2fca4282",
   "metadata": {},
   "outputs": [
    {
     "data": {
      "text/plain": [
       "True"
      ]
     },
     "execution_count": 24,
     "metadata": {},
     "output_type": "execute_result"
    }
   ],
   "source": [
    "\"a\" in sr4#用 in 判断某个键是否在Series里面"
   ]
  },
  {
   "cell_type": "code",
   "execution_count": 25,
   "id": "034c1311",
   "metadata": {},
   "outputs": [
    {
     "name": "stdout",
     "output_type": "stream",
     "text": [
      "1\n",
      "2\n"
     ]
    }
   ],
   "source": [
    "for i in sr4:\n",
    "    print(i)#打印的是值不是键"
   ]
  },
  {
   "cell_type": "code",
   "execution_count": 27,
   "id": "1fdbb95c",
   "metadata": {},
   "outputs": [
    {
     "data": {
      "text/plain": [
       "Index(['a', 'b'], dtype='object')"
      ]
     },
     "execution_count": 27,
     "metadata": {},
     "output_type": "execute_result"
    }
   ],
   "source": [
    "sr4.index #获取索引"
   ]
  },
  {
   "cell_type": "code",
   "execution_count": 28,
   "id": "5695aa0b",
   "metadata": {},
   "outputs": [
    {
     "data": {
      "text/plain": [
       "array([1, 2])"
      ]
     },
     "execution_count": 28,
     "metadata": {},
     "output_type": "execute_result"
    }
   ],
   "source": [
    "sr4.values"
   ]
  },
  {
   "cell_type": "code",
   "execution_count": 31,
   "id": "b8361347",
   "metadata": {},
   "outputs": [
    {
     "data": {
      "text/plain": [
       "a    3\n",
       "d    1\n",
       "f    3\n",
       "dtype: int64"
      ]
     },
     "execution_count": 31,
     "metadata": {},
     "output_type": "execute_result"
    }
   ],
   "source": [
    "sr2"
   ]
  },
  {
   "cell_type": "code",
   "execution_count": 33,
   "id": "efeb6ab6",
   "metadata": {},
   "outputs": [
    {
     "data": {
      "text/plain": [
       "a    3\n",
       "f    3\n",
       "dtype: int64"
      ]
     },
     "execution_count": 33,
     "metadata": {},
     "output_type": "execute_result"
    }
   ],
   "source": [
    "sr2[[\"a\",\"f\"]]#按标签花式索引"
   ]
  },
  {
   "cell_type": "code",
   "execution_count": 34,
   "id": "bc1350e1",
   "metadata": {},
   "outputs": [
    {
     "data": {
      "text/plain": [
       "a    3\n",
       "d    1\n",
       "f    3\n",
       "dtype: int64"
      ]
     },
     "execution_count": 34,
     "metadata": {},
     "output_type": "execute_result"
    }
   ],
   "source": [
    "sr2[\"a\":\"f\"]#闭的"
   ]
  },
  {
   "cell_type": "markdown",
   "id": "1bb5b355",
   "metadata": {},
   "source": [
    "整数做因"
   ]
  },
  {
   "cell_type": "code",
   "execution_count": 14,
   "id": "10fe5da7",
   "metadata": {},
   "outputs": [],
   "source": [
    "sr5=pd.Series(np.arange(20))"
   ]
  },
  {
   "cell_type": "code",
   "execution_count": 15,
   "id": "9360f283",
   "metadata": {},
   "outputs": [
    {
     "data": {
      "text/plain": [
       "0      0\n",
       "1      1\n",
       "2      2\n",
       "3      3\n",
       "4      4\n",
       "5      5\n",
       "6      6\n",
       "7      7\n",
       "8      8\n",
       "9      9\n",
       "10    10\n",
       "11    11\n",
       "12    12\n",
       "13    13\n",
       "14    14\n",
       "15    15\n",
       "16    16\n",
       "17    17\n",
       "18    18\n",
       "19    19\n",
       "dtype: int64"
      ]
     },
     "execution_count": 15,
     "metadata": {},
     "output_type": "execute_result"
    }
   ],
   "source": [
    "sr5"
   ]
  },
  {
   "cell_type": "code",
   "execution_count": 16,
   "id": "16ec23f1",
   "metadata": {},
   "outputs": [],
   "source": [
    "sr6=sr5[10:].copy()"
   ]
  },
  {
   "cell_type": "code",
   "execution_count": 17,
   "id": "6dceaee8",
   "metadata": {},
   "outputs": [
    {
     "data": {
      "text/plain": [
       "10    10\n",
       "11    11\n",
       "12    12\n",
       "13    13\n",
       "14    14\n",
       "15    15\n",
       "16    16\n",
       "17    17\n",
       "18    18\n",
       "19    19\n",
       "dtype: int64"
      ]
     },
     "execution_count": 17,
     "metadata": {},
     "output_type": "execute_result"
    }
   ],
   "source": [
    "sr6"
   ]
  },
  {
   "cell_type": "code",
   "execution_count": 41,
   "id": "d3643d58",
   "metadata": {},
   "outputs": [
    {
     "data": {
      "text/plain": [
       "10"
      ]
     },
     "execution_count": 41,
     "metadata": {},
     "output_type": "execute_result"
    }
   ],
   "source": [
    "sr6[10]#切片[]里面默认为标签"
   ]
  },
  {
   "cell_type": "code",
   "execution_count": 43,
   "id": "6b6b157f",
   "metadata": {},
   "outputs": [
    {
     "data": {
      "text/plain": [
       "10"
      ]
     },
     "execution_count": 43,
     "metadata": {},
     "output_type": "execute_result"
    }
   ],
   "source": [
    "sr6.loc[10]#【】里面为键，标签"
   ]
  },
  {
   "cell_type": "code",
   "execution_count": 46,
   "id": "7c308fbe",
   "metadata": {},
   "outputs": [
    {
     "data": {
      "text/plain": [
       "19"
      ]
     },
     "execution_count": 46,
     "metadata": {},
     "output_type": "execute_result"
    }
   ],
   "source": [
    "sr6.iloc[9]#【】里面为下标#整数索引的时候用lock和ilock区分"
   ]
  },
  {
   "cell_type": "raw",
   "id": "d4a7dc82",
   "metadata": {},
   "source": [
    "Series数据对齐"
   ]
  },
  {
   "cell_type": "code",
   "execution_count": 47,
   "id": "33f853eb",
   "metadata": {},
   "outputs": [
    {
     "data": {
      "text/plain": [
       "a    33\n",
       "c    32\n",
       "d    45\n",
       "dtype: int64"
      ]
     },
     "execution_count": 47,
     "metadata": {},
     "output_type": "execute_result"
    }
   ],
   "source": [
    "sr8=pd.Series([12,23,34],index=[\"c\",\"a\",\"d\"])\n",
    "sr9=pd.Series([11,20,10],index=[\"d\",\"c\",\"a\"])\n",
    "sr9+sr8#按照索引对齐"
   ]
  },
  {
   "cell_type": "code",
   "execution_count": 48,
   "id": "6cecc26a",
   "metadata": {},
   "outputs": [
    {
     "data": {
      "text/plain": [
       "a    26.0\n",
       "c    14.0\n",
       "d     NaN\n",
       "f     NaN\n",
       "dtype: float64"
      ]
     },
     "execution_count": 48,
     "metadata": {},
     "output_type": "execute_result"
    }
   ],
   "source": [
    "sr10=pd.Series([1,2,3],index=[\"f\",\"c\",\"a\"])\n",
    "sr8.add(sr10)#和sr8+sr10的效果一样"
   ]
  },
  {
   "cell_type": "code",
   "execution_count": 49,
   "id": "7414d64e",
   "metadata": {},
   "outputs": [
    {
     "data": {
      "text/plain": [
       "a    26.0\n",
       "c    14.0\n",
       "d     NaN\n",
       "f     NaN\n",
       "dtype: float64"
      ]
     },
     "execution_count": 49,
     "metadata": {},
     "output_type": "execute_result"
    }
   ],
   "source": [
    "sr8+sr10"
   ]
  },
  {
   "cell_type": "code",
   "execution_count": 50,
   "id": "f3cd94bf",
   "metadata": {},
   "outputs": [
    {
     "data": {
      "text/plain": [
       "a    26.0\n",
       "c    14.0\n",
       "d    34.0\n",
       "f     1.0\n",
       "dtype: float64"
      ]
     },
     "execution_count": 50,
     "metadata": {},
     "output_type": "execute_result"
    }
   ],
   "source": [
    "sr8.add(sr10,fill_value=0)#另一个每有值的话相当于加上0"
   ]
  },
  {
   "cell_type": "markdown",
   "id": "504a3334",
   "metadata": {},
   "source": [
    "Series缺失数据的处理"
   ]
  },
  {
   "cell_type": "markdown",
   "id": "85279d0d",
   "metadata": {},
   "source": [
    "删掉缺失数据"
   ]
  },
  {
   "cell_type": "code",
   "execution_count": 52,
   "id": "2cdb3c7a",
   "metadata": {},
   "outputs": [],
   "source": [
    "sr11=sr8+sr10"
   ]
  },
  {
   "cell_type": "code",
   "execution_count": 53,
   "id": "950dddb9",
   "metadata": {},
   "outputs": [
    {
     "data": {
      "text/plain": [
       "a    26.0\n",
       "c    14.0\n",
       "d     NaN\n",
       "f     NaN\n",
       "dtype: float64"
      ]
     },
     "execution_count": 53,
     "metadata": {},
     "output_type": "execute_result"
    }
   ],
   "source": [
    "sr11"
   ]
  },
  {
   "cell_type": "code",
   "execution_count": 56,
   "id": "2dd517af",
   "metadata": {},
   "outputs": [
    {
     "data": {
      "text/plain": [
       "a    False\n",
       "c    False\n",
       "d     True\n",
       "f     True\n",
       "dtype: bool"
      ]
     },
     "execution_count": 56,
     "metadata": {},
     "output_type": "execute_result"
    }
   ],
   "source": [
    "sr11.isnull()"
   ]
  },
  {
   "cell_type": "code",
   "execution_count": 57,
   "id": "fbbbf111",
   "metadata": {},
   "outputs": [
    {
     "data": {
      "text/plain": [
       "a     True\n",
       "c     True\n",
       "d    False\n",
       "f    False\n",
       "dtype: bool"
      ]
     },
     "execution_count": 57,
     "metadata": {},
     "output_type": "execute_result"
    }
   ],
   "source": [
    "sr11.notnull()"
   ]
  },
  {
   "cell_type": "code",
   "execution_count": 58,
   "id": "3f261618",
   "metadata": {},
   "outputs": [
    {
     "data": {
      "text/plain": [
       "a    26.0\n",
       "c    14.0\n",
       "dtype: float64"
      ]
     },
     "execution_count": 58,
     "metadata": {},
     "output_type": "execute_result"
    }
   ],
   "source": [
    "sr11[sr11.notnull()]#将缺失值去除"
   ]
  },
  {
   "cell_type": "code",
   "execution_count": 59,
   "id": "903bd078",
   "metadata": {},
   "outputs": [
    {
     "data": {
      "text/plain": [
       "a    26.0\n",
       "c    14.0\n",
       "dtype: float64"
      ]
     },
     "execution_count": 59,
     "metadata": {},
     "output_type": "execute_result"
    }
   ],
   "source": [
    "sr11.dropna()#将缺失值去除"
   ]
  },
  {
   "cell_type": "code",
   "execution_count": 61,
   "id": "e3438ede",
   "metadata": {},
   "outputs": [
    {
     "data": {
      "text/plain": [
       "a    26.0\n",
       "c    14.0\n",
       "d     0.0\n",
       "f     0.0\n",
       "dtype: float64"
      ]
     },
     "execution_count": 61,
     "metadata": {},
     "output_type": "execute_result"
    }
   ],
   "source": [
    "sr11.fillna(0)#nan的值变为0"
   ]
  },
  {
   "cell_type": "code",
   "execution_count": 62,
   "id": "2771c93b",
   "metadata": {},
   "outputs": [
    {
     "data": {
      "text/plain": [
       "a    26.0\n",
       "c    14.0\n",
       "d    20.0\n",
       "f    20.0\n",
       "dtype: float64"
      ]
     },
     "execution_count": 62,
     "metadata": {},
     "output_type": "execute_result"
    }
   ],
   "source": [
    "sr11.fillna(sr11.mean())#用平均数填充nan，求平均数的时候会自动跳过nan"
   ]
  },
  {
   "cell_type": "code",
   "execution_count": null,
   "id": "3d25358d",
   "metadata": {},
   "outputs": [],
   "source": []
  }
 ],
 "metadata": {
  "kernelspec": {
   "display_name": "Python 3 (ipykernel)",
   "language": "python",
   "name": "python3"
  },
  "language_info": {
   "codemirror_mode": {
    "name": "ipython",
    "version": 3
   },
   "file_extension": ".py",
   "mimetype": "text/x-python",
   "name": "python",
   "nbconvert_exporter": "python",
   "pygments_lexer": "ipython3",
   "version": "3.9.13"
  }
 },
 "nbformat": 4,
 "nbformat_minor": 5
}
