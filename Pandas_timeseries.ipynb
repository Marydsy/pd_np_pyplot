{
 "cells": [
  {
   "cell_type": "code",
   "execution_count": 1,
   "id": "e5410fac",
   "metadata": {},
   "outputs": [
    {
     "data": {
      "text/plain": [
       "datetime.datetime(2020, 2, 14, 0, 0)"
      ]
     },
     "execution_count": 1,
     "metadata": {},
     "output_type": "execute_result"
    }
   ],
   "source": [
    "import pandas as pd\n",
    "import numpy as np\n",
    "import datetime\n",
    "datetime.datetime.strptime('2020-02-14','%Y-%m-%d')#按照年月日转换 str parse time"
   ]
  },
  {
   "cell_type": "code",
   "execution_count": 2,
   "id": "eaea9906",
   "metadata": {},
   "outputs": [
    {
     "data": {
      "text/plain": [
       "datetime.datetime(2010, 1, 4, 0, 0)"
      ]
     },
     "execution_count": 2,
     "metadata": {},
     "output_type": "execute_result"
    }
   ],
   "source": [
    "import dateutil\n",
    "dateutil.parser.parse('2010-01-04')#年-月-日,不用输入格式化字符串"
   ]
  },
  {
   "cell_type": "code",
   "execution_count": 3,
   "id": "8d80b44b",
   "metadata": {},
   "outputs": [
    {
     "data": {
      "text/plain": [
       "datetime.datetime(2010, 1, 4, 0, 0)"
      ]
     },
     "execution_count": 3,
     "metadata": {},
     "output_type": "execute_result"
    }
   ],
   "source": [
    "dateutil.parser.parse('2010/01/04')"
   ]
  },
  {
   "cell_type": "code",
   "execution_count": 4,
   "id": "6fb01f09",
   "metadata": {},
   "outputs": [
    {
     "data": {
      "text/plain": [
       "datetime.datetime(2017, 1, 4, 0, 0)"
      ]
     },
     "execution_count": 4,
     "metadata": {},
     "output_type": "execute_result"
    }
   ],
   "source": [
    "dateutil.parser.parse('01/04/2017')#月-日-年"
   ]
  },
  {
   "cell_type": "code",
   "execution_count": 5,
   "id": "f9f48354",
   "metadata": {},
   "outputs": [
    {
     "data": {
      "text/plain": [
       "datetime.datetime(2017, 2, 4, 0, 0)"
      ]
     },
     "execution_count": 5,
     "metadata": {},
     "output_type": "execute_result"
    }
   ],
   "source": [
    "dateutil.parser.parse('Feb/04/2017')"
   ]
  },
  {
   "cell_type": "code",
   "execution_count": 6,
   "id": "02b957ac",
   "metadata": {},
   "outputs": [
    {
     "data": {
      "text/plain": [
       "DatetimeIndex(['2001-01-12', '2001-02-02'], dtype='datetime64[ns]', freq=None)"
      ]
     },
     "execution_count": 6,
     "metadata": {},
     "output_type": "execute_result"
    }
   ],
   "source": [
    "#批量转换为时间对象\n",
    "pd.to_datetime(['2001-01-12','2001-Feb-2'])"
   ]
  },
  {
   "cell_type": "code",
   "execution_count": 7,
   "id": "50fd3ff6",
   "metadata": {},
   "outputs": [
    {
     "data": {
      "text/plain": [
       "DatetimeIndex(['2010-01-01', '2010-01-02', '2010-01-03', '2010-01-04',\n",
       "               '2010-01-05', '2010-01-06', '2010-01-07', '2010-01-08',\n",
       "               '2010-01-09', '2010-01-10',\n",
       "               ...\n",
       "               '2020-04-22', '2020-04-23', '2020-04-24', '2020-04-25',\n",
       "               '2020-04-26', '2020-04-27', '2020-04-28', '2020-04-29',\n",
       "               '2020-04-30', '2020-05-01'],\n",
       "              dtype='datetime64[ns]', length=3774, freq='D')"
      ]
     },
     "execution_count": 7,
     "metadata": {},
     "output_type": "execute_result"
    }
   ],
   "source": [
    "pd.date_range('2010-01-01','2020-5-1')\n"
   ]
  },
  {
   "cell_type": "code",
   "execution_count": 8,
   "id": "f6c3fa5a",
   "metadata": {},
   "outputs": [
    {
     "data": {
      "text/plain": [
       "DatetimeIndex(['2010-03-02', '2010-03-03', '2010-03-04', '2010-03-05',\n",
       "               '2010-03-06', '2010-03-07', '2010-03-08', '2010-03-09',\n",
       "               '2010-03-10', '2010-03-11', '2010-03-12', '2010-03-13',\n",
       "               '2010-03-14', '2010-03-15', '2010-03-16', '2010-03-17',\n",
       "               '2010-03-18', '2010-03-19', '2010-03-20', '2010-03-21',\n",
       "               '2010-03-22', '2010-03-23', '2010-03-24', '2010-03-25',\n",
       "               '2010-03-26', '2010-03-27', '2010-03-28', '2010-03-29',\n",
       "               '2010-03-30', '2010-03-31', '2010-04-01', '2010-04-02',\n",
       "               '2010-04-03', '2010-04-04', '2010-04-05', '2010-04-06',\n",
       "               '2010-04-07', '2010-04-08', '2010-04-09', '2010-04-10',\n",
       "               '2010-04-11', '2010-04-12', '2010-04-13', '2010-04-14',\n",
       "               '2010-04-15', '2010-04-16', '2010-04-17', '2010-04-18',\n",
       "               '2010-04-19', '2010-04-20', '2010-04-21', '2010-04-22',\n",
       "               '2010-04-23', '2010-04-24', '2010-04-25', '2010-04-26',\n",
       "               '2010-04-27', '2010-04-28', '2010-04-29', '2010-04-30'],\n",
       "              dtype='datetime64[ns]', freq='D')"
      ]
     },
     "execution_count": 8,
     "metadata": {},
     "output_type": "execute_result"
    }
   ],
   "source": [
    "pd.date_range('2010-3-2',periods=60)#freq默认是‘D‘，以天为单位生成时间序列"
   ]
  },
  {
   "cell_type": "code",
   "execution_count": 9,
   "id": "c006e1bb",
   "metadata": {},
   "outputs": [
    {
     "data": {
      "text/plain": [
       "DatetimeIndex(['2020-03-01 00:00:00', '2020-03-01 01:00:00',\n",
       "               '2020-03-01 02:00:00', '2020-03-01 03:00:00',\n",
       "               '2020-03-01 04:00:00', '2020-03-01 05:00:00',\n",
       "               '2020-03-01 06:00:00', '2020-03-01 07:00:00',\n",
       "               '2020-03-01 08:00:00', '2020-03-01 09:00:00',\n",
       "               ...\n",
       "               '2020-03-31 15:00:00', '2020-03-31 16:00:00',\n",
       "               '2020-03-31 17:00:00', '2020-03-31 18:00:00',\n",
       "               '2020-03-31 19:00:00', '2020-03-31 20:00:00',\n",
       "               '2020-03-31 21:00:00', '2020-03-31 22:00:00',\n",
       "               '2020-03-31 23:00:00', '2020-04-01 00:00:00'],\n",
       "              dtype='datetime64[ns]', length=745, freq='H')"
      ]
     },
     "execution_count": 9,
     "metadata": {},
     "output_type": "execute_result"
    }
   ],
   "source": [
    "pd.date_range('2020-3-1','2020-4-1',freq='H')"
   ]
  },
  {
   "cell_type": "code",
   "execution_count": 10,
   "id": "505835ab",
   "metadata": {},
   "outputs": [
    {
     "data": {
      "text/plain": [
       "DatetimeIndex(['2020-03-01', '2020-03-08', '2020-03-15', '2020-03-22',\n",
       "               '2020-03-29'],\n",
       "              dtype='datetime64[ns]', freq='W-SUN')"
      ]
     },
     "execution_count": 10,
     "metadata": {},
     "output_type": "execute_result"
    }
   ],
   "source": [
    "pd.date_range('2020-3-1','2020-4-1',freq='W')#按照周生成"
   ]
  },
  {
   "cell_type": "code",
   "execution_count": 11,
   "id": "def5bd58",
   "metadata": {},
   "outputs": [
    {
     "data": {
      "text/plain": [
       "DatetimeIndex(['2020-03-02', '2020-03-09', '2020-03-16', '2020-03-23',\n",
       "               '2020-03-30'],\n",
       "              dtype='datetime64[ns]', freq='W-MON')"
      ]
     },
     "execution_count": 11,
     "metadata": {},
     "output_type": "execute_result"
    }
   ],
   "source": [
    "pd.date_range('2020-3-1','2020-4-1',freq='W-Mon')#每周一"
   ]
  },
  {
   "cell_type": "code",
   "execution_count": 12,
   "id": "1cd8f612",
   "metadata": {},
   "outputs": [
    {
     "data": {
      "text/plain": [
       "DatetimeIndex(['2020-03-02', '2020-03-03', '2020-03-04', '2020-03-05',\n",
       "               '2020-03-06', '2020-03-09', '2020-03-10', '2020-03-11',\n",
       "               '2020-03-12', '2020-03-13', '2020-03-16', '2020-03-17',\n",
       "               '2020-03-18', '2020-03-19', '2020-03-20', '2020-03-23',\n",
       "               '2020-03-24', '2020-03-25', '2020-03-26', '2020-03-27',\n",
       "               '2020-03-30', '2020-03-31', '2020-04-01'],\n",
       "              dtype='datetime64[ns]', freq='B')"
      ]
     },
     "execution_count": 12,
     "metadata": {},
     "output_type": "execute_result"
    }
   ],
   "source": [
    "pd.date_range('2020-3-1','2020-4-1',freq='B')#工作日"
   ]
  },
  {
   "cell_type": "markdown",
   "id": "defe47ac",
   "metadata": {},
   "source": [
    "时间序列"
   ]
  },
  {
   "cell_type": "code",
   "execution_count": 13,
   "id": "b7800756",
   "metadata": {},
   "outputs": [],
   "source": [
    "sr=pd.Series(np.arange(40),index=pd.date_range('2021-5-10',periods=40))"
   ]
  },
  {
   "cell_type": "code",
   "execution_count": 14,
   "id": "204f0ebb",
   "metadata": {},
   "outputs": [
    {
     "data": {
      "text/plain": [
       "2021-05-10     0\n",
       "2021-05-11     1\n",
       "2021-05-12     2\n",
       "2021-05-13     3\n",
       "2021-05-14     4\n",
       "2021-05-15     5\n",
       "2021-05-16     6\n",
       "2021-05-17     7\n",
       "2021-05-18     8\n",
       "2021-05-19     9\n",
       "2021-05-20    10\n",
       "2021-05-21    11\n",
       "2021-05-22    12\n",
       "2021-05-23    13\n",
       "2021-05-24    14\n",
       "2021-05-25    15\n",
       "2021-05-26    16\n",
       "2021-05-27    17\n",
       "2021-05-28    18\n",
       "2021-05-29    19\n",
       "2021-05-30    20\n",
       "2021-05-31    21\n",
       "2021-06-01    22\n",
       "2021-06-02    23\n",
       "2021-06-03    24\n",
       "2021-06-04    25\n",
       "2021-06-05    26\n",
       "2021-06-06    27\n",
       "2021-06-07    28\n",
       "2021-06-08    29\n",
       "2021-06-09    30\n",
       "2021-06-10    31\n",
       "2021-06-11    32\n",
       "2021-06-12    33\n",
       "2021-06-13    34\n",
       "2021-06-14    35\n",
       "2021-06-15    36\n",
       "2021-06-16    37\n",
       "2021-06-17    38\n",
       "2021-06-18    39\n",
       "Freq: D, dtype: int64"
      ]
     },
     "execution_count": 14,
     "metadata": {},
     "output_type": "execute_result"
    }
   ],
   "source": [
    "sr"
   ]
  },
  {
   "cell_type": "code",
   "execution_count": 15,
   "id": "e72e4376",
   "metadata": {},
   "outputs": [
    {
     "data": {
      "text/plain": [
       "2021-05-10     0\n",
       "2021-05-11     1\n",
       "2021-05-12     2\n",
       "2021-05-13     3\n",
       "2021-05-14     4\n",
       "2021-05-15     5\n",
       "2021-05-16     6\n",
       "2021-05-17     7\n",
       "2021-05-18     8\n",
       "2021-05-19     9\n",
       "2021-05-20    10\n",
       "2021-05-21    11\n",
       "2021-05-22    12\n",
       "2021-05-23    13\n",
       "2021-05-24    14\n",
       "2021-05-25    15\n",
       "2021-05-26    16\n",
       "2021-05-27    17\n",
       "2021-05-28    18\n",
       "2021-05-29    19\n",
       "2021-05-30    20\n",
       "2021-05-31    21\n",
       "Freq: D, dtype: int64"
      ]
     },
     "execution_count": 15,
     "metadata": {},
     "output_type": "execute_result"
    }
   ],
   "source": [
    "sr['2021-5']"
   ]
  },
  {
   "cell_type": "code",
   "execution_count": 17,
   "id": "5c0b4cc0",
   "metadata": {},
   "outputs": [],
   "source": [
    "sr1=pd.Series(np.arange(1000),index=pd.date_range('2020-5-10',periods=1000))"
   ]
  },
  {
   "cell_type": "code",
   "execution_count": 18,
   "id": "94f1acca",
   "metadata": {},
   "outputs": [
    {
     "data": {
      "text/plain": [
       "2022-01-01    601\n",
       "2022-01-02    602\n",
       "2022-01-03    603\n",
       "2022-01-04    604\n",
       "2022-01-05    605\n",
       "             ... \n",
       "2022-12-27    961\n",
       "2022-12-28    962\n",
       "2022-12-29    963\n",
       "2022-12-30    964\n",
       "2022-12-31    965\n",
       "Freq: D, Length: 365, dtype: int64"
      ]
     },
     "execution_count": 18,
     "metadata": {},
     "output_type": "execute_result"
    }
   ],
   "source": [
    "sr1['2022']"
   ]
  },
  {
   "cell_type": "code",
   "execution_count": 19,
   "id": "29015758",
   "metadata": {},
   "outputs": [
    {
     "data": {
      "text/plain": [
       "2021-01-01    236\n",
       "2021-01-02    237\n",
       "2021-01-03    238\n",
       "2021-01-04    239\n",
       "2021-01-05    240\n",
       "             ... \n",
       "2022-02-25    656\n",
       "2022-02-26    657\n",
       "2022-02-27    658\n",
       "2022-02-28    659\n",
       "2022-03-01    660\n",
       "Freq: D, Length: 425, dtype: int64"
      ]
     },
     "execution_count": 19,
     "metadata": {},
     "output_type": "execute_result"
    }
   ],
   "source": [
    "sr1['2021':'2022-3-1']#切片灵活"
   ]
  },
  {
   "cell_type": "code",
   "execution_count": 20,
   "id": "d5551c65",
   "metadata": {},
   "outputs": [
    {
     "data": {
      "text/plain": [
       "2020-05-10       0\n",
       "2020-05-17      28\n",
       "2020-05-24      77\n",
       "2020-05-31     126\n",
       "2020-06-07     175\n",
       "              ... \n",
       "2023-01-08    6790\n",
       "2023-01-15    6839\n",
       "2023-01-22    6888\n",
       "2023-01-29    6937\n",
       "2023-02-05    4985\n",
       "Freq: W-SUN, Length: 144, dtype: int64"
      ]
     },
     "execution_count": 20,
     "metadata": {},
     "output_type": "execute_result"
    }
   ],
   "source": [
    "sr1.resample('W').sum()#求每周的和"
   ]
  },
  {
   "cell_type": "code",
   "execution_count": 21,
   "id": "c22da2ba",
   "metadata": {},
   "outputs": [
    {
     "data": {
      "text/plain": [
       "2020-05-10      0.0\n",
       "2020-05-17      4.0\n",
       "2020-05-24     11.0\n",
       "2020-05-31     18.0\n",
       "2020-06-07     25.0\n",
       "              ...  \n",
       "2023-01-08    970.0\n",
       "2023-01-15    977.0\n",
       "2023-01-22    984.0\n",
       "2023-01-29    991.0\n",
       "2023-02-05    997.0\n",
       "Freq: W-SUN, Length: 144, dtype: float64"
      ]
     },
     "execution_count": 21,
     "metadata": {},
     "output_type": "execute_result"
    }
   ],
   "source": [
    "sr1.resample('W').mean()"
   ]
  },
  {
   "cell_type": "code",
   "execution_count": 22,
   "id": "223640ce",
   "metadata": {},
   "outputs": [
    {
     "data": {
      "text/plain": [
       "2021-02-03    269\n",
       "2021-02-04    270\n",
       "2021-02-05    271\n",
       "2021-02-06    272\n",
       "2021-02-07    273\n",
       "             ... \n",
       "2023-01-30    995\n",
       "2023-01-31    996\n",
       "2023-02-01    997\n",
       "2023-02-02    998\n",
       "2023-02-03    999\n",
       "Freq: D, Length: 731, dtype: int64"
      ]
     },
     "execution_count": 22,
     "metadata": {},
     "output_type": "execute_result"
    }
   ],
   "source": [
    "sr1.truncate(before='2021-2-3')#只取2021-2-3后面的东西"
   ]
  },
  {
   "cell_type": "code",
   "execution_count": null,
   "id": "50dfd0f0",
   "metadata": {},
   "outputs": [],
   "source": []
  }
 ],
 "metadata": {
  "kernelspec": {
   "display_name": "Python 3 (ipykernel)",
   "language": "python",
   "name": "python3"
  },
  "language_info": {
   "codemirror_mode": {
    "name": "ipython",
    "version": 3
   },
   "file_extension": ".py",
   "mimetype": "text/x-python",
   "name": "python",
   "nbconvert_exporter": "python",
   "pygments_lexer": "ipython3",
   "version": "3.9.13"
  }
 },
 "nbformat": 4,
 "nbformat_minor": 5
}
